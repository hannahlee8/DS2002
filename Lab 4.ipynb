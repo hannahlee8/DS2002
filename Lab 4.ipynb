{
 "cells": [
  {
   "cell_type": "code",
   "execution_count": 105,
   "id": "1a5bd43a",
   "metadata": {},
   "outputs": [],
   "source": [
    "import json\n",
    "import requests\n",
    "import pandas\n",
    "from datetime import date"
   ]
  },
  {
   "cell_type": "code",
   "execution_count": 127,
   "id": "3d1130ea",
   "metadata": {},
   "outputs": [
    {
     "name": "stdout",
     "output_type": "stream",
     "text": [
      "GOOG\n"
     ]
    }
   ],
   "source": [
    "### Get name ticker\n",
    "stock = input()"
   ]
  },
  {
   "cell_type": "code",
   "execution_count": 126,
   "id": "ae9c4789",
   "metadata": {},
   "outputs": [],
   "source": [
    "try:\n",
    "    header_var ={\n",
    "    'User-Agent': 'Mozilla/5.0 (Macintosh; Intel Mac OS X 10_10_1) AppleWebKit/537.36 (KHTML, like Gecko) Chrome/39.0.2171.95 Safari/537.36'}\n",
    "\n",
    "    #base url https://query1.finance.yahoo.com/v7/finance/quote\n",
    "    urlQuote = 'https://query1.finance.yahoo.com/v7/finance/quote'\n",
    "    querystring = {\"symbols\": stock}\n",
    "\n",
    "    response = requests.request(\"GET\",urlQuote, headers=header_var,params=querystring)\n",
    "\n",
    "    stock_json = response.json()\n",
    "\n",
    "    #https://query1.finance.yahoo.com/v10/finance/quoteSummary/\n",
    "    url2=\"https://query1.finance.yahoo.com/v10/finance/quoteSummary/\"\n",
    "    query_str = {\"symbol\": stock, \"modules\":\"financialData\"}\n",
    "\n",
    "    response1 = requests.request(\"GET\",url2, headers=header_var,params=query_str)\n",
    "\n",
    "    stock_json1 = response1.json()\n",
    "\n",
    "    curr_date = date.today()\n",
    "\n",
    "    APIdict = {\n",
    "        \"Date\": str(curr_date),\n",
    "        \"Ticker Name\": stock_json['quoteResponse']['result'][0]['symbol'],\n",
    "        \"Stock Name\": stock_json['quoteResponse']['result'][0]['longName'],\n",
    "        \"Current Price\": stock_json1['quoteSummary']['result'][0]['financialData']['currentPrice']['fmt'],\n",
    "        \"Target Mean Price\": stock_json1['quoteSummary']['result'][0]['financialData']['targetMeanPrice']['fmt'],\n",
    "        \"Cash on Hand\": stock_json1['quoteSummary']['result'][0]['financialData']['totalCash']['fmt'],\n",
    "        \"Profit Margins\": stock_json1['quoteSummary']['result'][0]['financialData']['profitMargins']['fmt']\n",
    "    }\n",
    "\n",
    "    # Write to json\n",
    "    with open('YahooFinanceAPIContents.json', 'w') as file:\n",
    "        json.dump(APIdict, file)\n",
    "        \n",
    "except:\n",
    "    print(\"Error retrieving information\")\n",
    "\n"
   ]
  },
  {
   "cell_type": "code",
   "execution_count": null,
   "id": "f9d45079",
   "metadata": {},
   "outputs": [],
   "source": []
  }
 ],
 "metadata": {
  "kernelspec": {
   "display_name": "Python 3 (ipykernel)",
   "language": "python",
   "name": "python3"
  },
  "language_info": {
   "codemirror_mode": {
    "name": "ipython",
    "version": 3
   },
   "file_extension": ".py",
   "mimetype": "text/x-python",
   "name": "python",
   "nbconvert_exporter": "python",
   "pygments_lexer": "ipython3",
   "version": "3.9.12"
  }
 },
 "nbformat": 4,
 "nbformat_minor": 5
}

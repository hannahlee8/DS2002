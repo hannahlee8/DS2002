{
 "cells": [
  {
   "cell_type": "code",
   "execution_count": null,
   "id": "0d0f6f20",
   "metadata": {},
   "outputs": [],
   "source": [
    "'''\n",
    "To use this data processor, run all cells in order. First, a pre-defined remote data source \n",
    "with gobal information on Covid-19 including number of cases, recoveries, and deaths, will\n",
    "be retrieved and stored locally in a JSON format in the same folder this notebook is in.\n",
    "Then, when asked for an input, the user must input 'CSV' or 'SQL' and the data source will\n",
    "be converted to a CSV file or SQL Database file, which will also be stored locally. \n",
    "Finally, a summary of the data file including number of rows and columns is provided.\n",
    "'''"
   ]
  },
  {
   "cell_type": "code",
   "execution_count": 133,
   "id": "0f1a28aa",
   "metadata": {},
   "outputs": [],
   "source": [
    "import os\n",
    "import json\n",
    "import pprint\n",
    "import requests\n",
    "import requests.exceptions\n",
    "import pandas as pd\n",
    "from sqlalchemy import create_engine"
   ]
  },
  {
   "cell_type": "code",
   "execution_count": 134,
   "id": "5589c184",
   "metadata": {},
   "outputs": [],
   "source": [
    "### Pre-defined data source\n",
    "base_url = \"https://coronavirus.m.pipedream.net/\""
   ]
  },
  {
   "cell_type": "code",
   "execution_count": 135,
   "id": "160ba207",
   "metadata": {},
   "outputs": [],
   "source": [
    "def get_api_response(url):\n",
    "    try:\n",
    "        response = requests.get(url)\n",
    "        response.raise_for_status()\n",
    "    \n",
    "    except requests.exceptions.HTTPError as errh:\n",
    "        return \"An Http Error occurred: \" + repr(errh)\n",
    "    except requests.exceptions.ConnectionError as errc:\n",
    "        return \"An Error Connecting to the API occurred: \" + repr(errc)\n",
    "    except requests.exceptions.Timeout as errt:\n",
    "        return \"A Timeout Error occurred: \" + repr(errt)\n",
    "    except requests.exceptions.RequestException as err:\n",
    "        return \"An Unknown Error occurred: \" + repr(err)\n",
    "\n",
    "    result = json.dumps(response.json(), sort_keys=True, indent=4)\n",
    "\n",
    "    return result\n",
    "\n",
    "### Retrieve remote data file by URL using the requests http library\n",
    "json_string = get_api_response(base_url)"
   ]
  },
  {
   "cell_type": "code",
   "execution_count": 136,
   "id": "c3eeb39a",
   "metadata": {},
   "outputs": [],
   "source": [
    "### Write data to a local json file using the json package\n",
    "with open('Covid.json', 'w',encoding='utf8') as file:\n",
    "        json.dump(json_obj[\"rawData\"], file)\n",
    "        \n",
    "data = json.load(open('Covid.json'))\n",
    "df = pd.json_normalize(data)"
   ]
  },
  {
   "cell_type": "code",
   "execution_count": 143,
   "id": "e7dd1bc4",
   "metadata": {
    "scrolled": true
   },
   "outputs": [
    {
     "name": "stdout",
     "output_type": "stream",
     "text": [
      "Enter 'CSV' or 'SQL' to convert JSON file: \n",
      "SQL\n"
     ]
    }
   ],
   "source": [
    "### User input for converting JSON File to SQL or CSV\n",
    "print(\"Enter 'CSV' or 'SQL' to convert JSON file: \")\n",
    "file_type = input()"
   ]
  },
  {
   "cell_type": "code",
   "execution_count": 144,
   "id": "0f0cce0b",
   "metadata": {},
   "outputs": [],
   "source": [
    "def create_sql_file():\n",
    "    sqlEngine = create_engine(\"sqlite:///covid_data.db\")\n",
    "    connection = sqlEngine.connect()\n",
    "    df.to_sql(\"covid_table\", con=connection)"
   ]
  },
  {
   "cell_type": "code",
   "execution_count": 145,
   "id": "e1fe8aa5",
   "metadata": {},
   "outputs": [
    {
     "name": "stdout",
     "output_type": "stream",
     "text": [
      "JSON successfully converted to SQL Database\n"
     ]
    }
   ],
   "source": [
    "### Convert JSON to CSV file or SQL Database, and save locally\n",
    "if file_type == \"CSV\":\n",
    "    try:\n",
    "        df.to_csv('Covid_csv.csv')\n",
    "    except Exception as E_CSV:\n",
    "        print(\"Error converting to CSV file: \", E_CSV)\n",
    "    else:\n",
    "        print(\"JSON successfully converted to CSV file\")\n",
    "elif file_type == \"SQL\":\n",
    "    try:\n",
    "        create_sql_file()\n",
    "    except Exception as E_SQL:\n",
    "        print(\"Error converting to SQL Database: \", E_SQL)\n",
    "    else: print(\"JSON successfully converted to SQL Database\")\n",
    "else:\n",
    "    print(\"Error: Inputted file type is not 'CSV' or 'SQL'\")\n",
    "    "
   ]
  },
  {
   "cell_type": "code",
   "execution_count": 146,
   "id": "7ad58fcf",
   "metadata": {},
   "outputs": [
    {
     "name": "stdout",
     "output_type": "stream",
     "text": [
      "Number of records: 4016\n",
      "Number of records: 14\n",
      "<class 'pandas.core.frame.DataFrame'>\n",
      "RangeIndex: 4016 entries, 0 to 4015\n",
      "Data columns (total 14 columns):\n",
      " #   Column               Non-Null Count  Dtype \n",
      "---  ------               --------------  ----- \n",
      " 0   Active               4016 non-null   object\n",
      " 1   Admin2               4016 non-null   object\n",
      " 2   Case_Fatality_Ratio  4016 non-null   object\n",
      " 3   Combined_Key         4016 non-null   object\n",
      " 4   Confirmed            4016 non-null   object\n",
      " 5   Country_Region       4016 non-null   object\n",
      " 6   Deaths               4016 non-null   object\n",
      " 7   FIPS                 4016 non-null   object\n",
      " 8   Incident_Rate        4016 non-null   object\n",
      " 9   Last_Update          4016 non-null   object\n",
      " 10  Lat                  4016 non-null   object\n",
      " 11  Long_                4016 non-null   object\n",
      " 12  Province_State       4016 non-null   object\n",
      " 13  Recovered            4016 non-null   object\n",
      "dtypes: object(14)\n",
      "memory usage: 439.4+ KB\n"
     ]
    }
   ],
   "source": [
    "### Summary of data file ingestion\n",
    "print(\"Number of records: \" + str(df.shape[0]))\n",
    "print(\"Number of columns: \" + str(df.shape[1]))\n",
    "\n",
    "df.info()"
   ]
  },
  {
   "cell_type": "code",
   "execution_count": null,
   "id": "4d27f27e",
   "metadata": {},
   "outputs": [],
   "source": []
  }
 ],
 "metadata": {
  "kernelspec": {
   "display_name": "Python 3 (ipykernel)",
   "language": "python",
   "name": "python3"
  },
  "language_info": {
   "codemirror_mode": {
    "name": "ipython",
    "version": 3
   },
   "file_extension": ".py",
   "mimetype": "text/x-python",
   "name": "python",
   "nbconvert_exporter": "python",
   "pygments_lexer": "ipython3",
   "version": "3.9.12"
  }
 },
 "nbformat": 4,
 "nbformat_minor": 5
}
